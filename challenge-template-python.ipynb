{
 "cells": [
  {
   "cell_type": "code",
   "execution_count": 1,
   "id": "a40d4cd6",
   "metadata": {},
   "outputs": [],
   "source": [
    "import os\n",
    "import numpy as np \n",
    "import pandas as pd"
   ]
  },
  {
   "cell_type": "code",
   "execution_count": 2,
   "id": "c1ba6dad",
   "metadata": {},
   "outputs": [],
   "source": [
    "X_train = pd.read_csv(\"data/ancestry_train.data\", sep = \" \", header=None).values\n",
    "y_train = pd.read_csv(\"data/ancestry_train.solution\", sep = \" \", header=None).values\n",
    "\n",
    "X_test = pd.read_csv(\"data/ancestry_test.data\", sep = \" \", header=None).values"
   ]
  },
  {
   "cell_type": "code",
   "execution_count": 3,
   "id": "df617cf5",
   "metadata": {},
   "outputs": [
    {
     "data": {
      "text/plain": [
       "array([[0, 0, 0, ..., 1, 0, 0],\n",
       "       [1, 0, 0, ..., 0, 0, 0],\n",
       "       [0, 0, 0, ..., 1, 0, 0],\n",
       "       ...,\n",
       "       [0, 0, 0, ..., 0, 1, 0],\n",
       "       [0, 0, 0, ..., 1, 0, 0],\n",
       "       [0, 0, 1, ..., 0, 0, 0]])"
      ]
     },
     "execution_count": 3,
     "metadata": {},
     "output_type": "execute_result"
    }
   ],
   "source": [
    "X_train"
   ]
  },
  {
   "cell_type": "code",
   "execution_count": 4,
   "id": "bfa095d9",
   "metadata": {},
   "outputs": [
    {
     "data": {
      "text/plain": [
       "array([[0.198, 0.75 , 0.052],\n",
       "       [0.858, 0.142, 0.   ],\n",
       "       [0.761, 0.237, 0.001],\n",
       "       ...,\n",
       "       [0.001, 0.183, 0.817],\n",
       "       [0.016, 0.591, 0.393],\n",
       "       [0.   , 0.007, 0.993]])"
      ]
     },
     "execution_count": 4,
     "metadata": {},
     "output_type": "execute_result"
    }
   ],
   "source": [
    "np.round(y_train, 3)"
   ]
  },
  {
   "cell_type": "code",
   "execution_count": 5,
   "id": "79f57150",
   "metadata": {},
   "outputs": [
    {
     "data": {
      "text/plain": [
       "array([[0, 0, 0, ..., 0, 0, 0],\n",
       "       [1, 0, 0, ..., 0, 2, 0],\n",
       "       [0, 0, 1, ..., 0, 0, 0],\n",
       "       ...,\n",
       "       [0, 0, 0, ..., 2, 1, 1],\n",
       "       [0, 0, 2, ..., 0, 0, 1],\n",
       "       [0, 0, 0, ..., 0, 0, 0]])"
      ]
     },
     "execution_count": 5,
     "metadata": {},
     "output_type": "execute_result"
    }
   ],
   "source": [
    "X_test"
   ]
  },
  {
   "cell_type": "markdown",
   "id": "7de22ea6",
   "metadata": {},
   "source": [
    "# cost function"
   ]
  },
  {
   "cell_type": "code",
   "execution_count": 6,
   "id": "6691a176",
   "metadata": {},
   "outputs": [],
   "source": [
    "def cost(y_true, y_hat):\n",
    "    mse = -np.log10(np.mean((y_true-y_hat)**2)+1e-5)\n",
    "    return(mse)"
   ]
  },
  {
   "cell_type": "markdown",
   "id": "8c2c9558",
   "metadata": {},
   "source": [
    "# baseline"
   ]
  },
  {
   "cell_type": "code",
   "execution_count": 7,
   "id": "fa4a7319",
   "metadata": {},
   "outputs": [
    {
     "data": {
      "text/plain": [
       "0.8401067369385945"
      ]
     },
     "execution_count": 7,
     "metadata": {},
     "output_type": "execute_result"
    }
   ],
   "source": [
    "base = np.ones((y_train.shape[0], y_train.shape[1])) * (1/3)\n",
    "cost(y_train, base)"
   ]
  },
  {
   "cell_type": "code",
   "execution_count": 8,
   "id": "7760b318",
   "metadata": {},
   "outputs": [],
   "source": [
    "y_test = np.ones((X_test.shape[0], y_train.shape[1])) * (1/3)"
   ]
  },
  {
   "cell_type": "markdown",
   "id": "4bc7ee63",
   "metadata": {},
   "source": [
    "# save and zip the file"
   ]
  },
  {
   "cell_type": "code",
   "execution_count": 9,
   "id": "d6e6ff83",
   "metadata": {},
   "outputs": [
    {
     "name": "stdout",
     "output_type": "stream",
     "text": [
      "updating: predictions.csv (deflated 100%)\n"
     ]
    },
    {
     "data": {
      "text/plain": [
       "0"
      ]
     },
     "execution_count": 9,
     "metadata": {},
     "output_type": "execute_result"
    }
   ],
   "source": [
    "pd.DataFrame(y_test).to_csv(f\"predictions.csv\", sep = \" \", header = None, index = None)\n",
    "os.system(\"zip -r predictions.zip predictions.csv\")"
   ]
  },
  {
   "cell_type": "code",
   "execution_count": null,
   "id": "5b49a899",
   "metadata": {},
   "outputs": [],
   "source": []
  },
  {
   "cell_type": "code",
   "execution_count": null,
   "id": "0c32fb15",
   "metadata": {},
   "outputs": [],
   "source": []
  },
  {
   "cell_type": "code",
   "execution_count": null,
   "id": "e8b83d3c",
   "metadata": {},
   "outputs": [],
   "source": []
  },
  {
   "cell_type": "code",
   "execution_count": null,
   "id": "a407dc59",
   "metadata": {},
   "outputs": [],
   "source": []
  },
  {
   "cell_type": "code",
   "execution_count": null,
   "id": "39a0f503",
   "metadata": {},
   "outputs": [],
   "source": []
  },
  {
   "cell_type": "code",
   "execution_count": null,
   "id": "90203cd0",
   "metadata": {},
   "outputs": [],
   "source": []
  },
  {
   "cell_type": "code",
   "execution_count": null,
   "id": "f3873e69",
   "metadata": {},
   "outputs": [],
   "source": []
  }
 ],
 "metadata": {
  "kernelspec": {
   "display_name": "Python 3 (ipykernel)",
   "language": "python",
   "name": "python3"
  },
  "language_info": {
   "codemirror_mode": {
    "name": "ipython",
    "version": 3
   },
   "file_extension": ".py",
   "mimetype": "text/x-python",
   "name": "python",
   "nbconvert_exporter": "python",
   "pygments_lexer": "ipython3",
   "version": "3.9.13"
  }
 },
 "nbformat": 4,
 "nbformat_minor": 5
}
